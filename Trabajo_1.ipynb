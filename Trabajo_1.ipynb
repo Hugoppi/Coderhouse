{
  "nbformat": 4,
  "nbformat_minor": 0,
  "metadata": {
    "colab": {
      "provenance": [],
      "authorship_tag": "ABX9TyOw+sq3ICkDK6HJWZoLpgap",
      "include_colab_link": true
    },
    "kernelspec": {
      "name": "python3",
      "display_name": "Python 3"
    },
    "language_info": {
      "name": "python"
    }
  },
  "cells": [
    {
      "cell_type": "markdown",
      "metadata": {
        "id": "view-in-github",
        "colab_type": "text"
      },
      "source": [
        "<a href=\"https://colab.research.google.com/github/Hugoppi/Coderhouse/blob/main/Trabajo_1.ipynb\" target=\"_parent\"><img src=\"https://colab.research.google.com/assets/colab-badge.svg\" alt=\"Open In Colab\"/></a>"
      ]
    },
    {
      "cell_type": "code",
      "execution_count": null,
      "metadata": {
        "id": "ZrQLirpE45Qq"
      },
      "outputs": [],
      "source": [
        "import pandas as pd\n",
        "import numpy as np\n",
        "import matplotlib.pyplot as plt\n",
        "\n",
        "\n",
        "\n",
        "path = '/content/Ceco Gs com 5065675301 1-12 2023.XLSX'\n",
        "leer = pd.read_excel(path)\n",
        "df = pd.DataFrame(leer)\n",
        "pd.options.display.float_format = '${:,.2f}'.format\n",
        "\n",
        "\n",
        "\n",
        "\n",
        "df[['Denom.clase de coste', 'Val/Mon.so.CO', 'Fe.contabilización']].groupby(['Denom.clase de coste',pd.Grouper(key='Fe.contabilización', axis=0,\n",
        "                      freq='Y')]).sum('Val/Mon.so.CO')\n",
        "\n",
        "\n",
        "#Convierto la columna en fecha\n",
        "df['Fe.contabilización'] = pd.to_datetime(df['Fe.contabilización'])\n",
        "\n",
        "#Extraigo el mes de esa columna\n",
        "df['mes_cont'] = df['Fe.contabilización'].dt.month\n",
        "\n",
        "df[['Denom.clase de coste', 'Val/Mon.so.CO', 'mes_cont']].groupby(['Denom.clase de coste',pd.Grouper(key='mes_cont', axis=0,\n",
        "                      freq='m')]).sum('Val/Mon.so.CO')\n",
        "\n",
        "df.head(2)\n",
        "\n",
        "\n",
        "\n",
        "\n",
        "\n",
        "\n",
        "\n",
        "\n",
        "\n",
        "\n",
        "\n",
        "\n",
        "\n",
        "\n",
        "\n",
        "\n",
        "\n",
        "\n",
        "\n",
        "\n",
        "\n",
        "\n",
        "\n",
        "\n",
        "\n",
        "\n",
        "\n",
        "\n",
        "\n",
        "\n",
        "\n",
        "\n",
        "\n",
        "\n",
        "\n",
        "\n",
        "\n",
        "\n",
        "\n"
      ]
    }
  ]
}